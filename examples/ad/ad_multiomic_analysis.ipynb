{
 "cells": [
  {
   "cell_type": "markdown",
   "metadata": {},
   "source": [
    "# AD multiomic analysis\n",
    "\n",
    "PIMKL analysis of the data presented in https://doi.org/10.1016/j.nbd.2018.12.009."
   ]
  },
  {
   "cell_type": "code",
   "execution_count": null,
   "metadata": {},
   "outputs": [],
   "source": [
    "import os\n",
    "import pandas as pd\n",
    "from pimkl.inducers import read_gmt, get_matching_data_and_network, write_preprocessed\n",
    "from pimkl.network import get_network_from_csv\n",
    "from pimkl.cli.analyse import analyse, sns, plt, significant_color, other_color, significant_pathways"
   ]
  },
  {
   "cell_type": "code",
   "execution_count": null,
   "metadata": {},
   "outputs": [],
   "source": [
    "!pip install pyxlsb\n",
    "!pip install xlrd"
   ]
  },
  {
   "cell_type": "code",
   "execution_count": null,
   "metadata": {},
   "outputs": [],
   "source": [
    "# paths and setup\n",
    "data_path = os.path.join(os.path.expanduser('~'), 'path/to/data')\n",
    "proteomic_filepath = os.path.join(data_path, '30-058_Protein_210111.xlsb')\n",
    "transcriptomic_filepath = os.path.join(data_path, '30-058_Transcriptome_210111.xlsb')\n",
    "gene_sets_filepath = os.path.join(data_path, 'h.all.v7.2.symbols.xls')\n",
    "network_filepath = os.path.join(data_path, 'kegg_pc_interactions.csv')\n",
    "preprocess_dir = os.path.join(data_path, 'preprocess')\n",
    "os.makedirs(preprocess_dir, exist_ok=True)\n",
    "network_name = os.path.splitext(os.path.basename(network_filepath))[0].replace('_', '-')\n",
    "gene_sets_name = os.path.splitext(os.path.basename(gene_sets_filepath))[0].replace('.', '-')\n",
    "output_dir = os.path.join(data_path, 'output')\n",
    "os.makedirs(output_dir, exist_ok=True)\n",
    "labels_filepath = os.path.join(preprocess_dir, 'labels.csv')\n",
    "data_names = ['proteome', 'transcriptome']"
   ]
  },
  {
   "cell_type": "code",
   "execution_count": null,
   "metadata": {},
   "outputs": [],
   "source": [
    "def read_expression_data(filepath, gene_name_column, entities_start_index, samples_start_index, samples_end_index):\n",
    "    data = pd.read_excel(filepath, engine='pyxlsb')\n",
    "    gene_names = data[gene_name_column][entities_start_index:].str.strip('[]')\n",
    "    expression = data[entities_start_index:].T[samples_start_index:samples_end_index]\n",
    "    expression.columns = gene_names\n",
    "    expression.index.name = 'samples'\n",
    "    expression.columns.name = 'gene_names'\n",
    "    return ((expression - expression.mean()) / expression.std()).fillna(0.)\n",
    "\n",
    "\n",
    "def read_stages(transcriptomic_filepath):\n",
    "    data = pd.read_excel(transcriptomic_filepath, engine='pyxlsb')\n",
    "    return data.iloc[0][2:].astype(int)\n",
    "\n",
    "\n",
    "def plot_top_k_pathways(weights_filepath, top_k):\n",
    "    analysis_name = os.path.splitext(os.path.basename(weights_filepath))[0].replace('weights_', '')\n",
    "    weights_df = pd.read_csv(weights_filepath, index_col=0)\n",
    "    inducers_ordering = weights_df.median().sort_values(ascending=False).index\n",
    "    colors = [\n",
    "        significant_color if is_significant else other_color for is_significant\n",
    "        in significant_pathways(weights_df[inducers_ordering])\n",
    "    ]\n",
    "    sns.boxplot(data=weights_df[inducers_ordering[:top_k]], palette=colors[:top_k])\n",
    "    plt.xlabel('Pathway')\n",
    "    plt.ylabel('Weight')\n",
    "    _ = plt.xticks(rotation=90, fontsize=8)\n",
    "    plt.axhline(y=1. / weights_df.shape[1], lw=1., ls='--', c='black')\n",
    "    plt.savefig(\n",
    "        '{}/weights_top-k={}_{}.pdf'.format(output_dir, top_k, analysis_name),\n",
    "        bbox_inches='tight'\n",
    "    )\n",
    "    plt.close()"
   ]
  },
  {
   "cell_type": "code",
   "execution_count": null,
   "metadata": {},
   "outputs": [],
   "source": [
    "# read data\n",
    "proteomic_data = read_expression_data(proteomic_filepath, 'Class', 3, 4, 40)\n",
    "transcriptomic_data = read_expression_data(transcriptomic_filepath, 'Class.1', 4, 2, 62)\n",
    "stages = read_stages(transcriptomic_filepath)\n",
    "gene_sets = read_gmt(gene_sets_filepath)\n",
    "network = get_network_from_csv(network_filepath)"
   ]
  },
  {
   "cell_type": "code",
   "execution_count": null,
   "metadata": {},
   "outputs": [],
   "source": [
    "# write inducers\n",
    "for data_name, data in zip(data_names, [proteomic_data, transcriptomic_data]):\n",
    "    data_filtered, network_filtered = get_matching_data_and_network(\n",
    "        data, network\n",
    "    )\n",
    "    write_preprocessed(\n",
    "        data=data_filtered,\n",
    "        data_name=data_name,\n",
    "        network=network_filtered,\n",
    "        network_name=network_name,\n",
    "        gene_sets=gene_sets,\n",
    "        gene_sets_name=gene_sets_name,\n",
    "        output_dir=preprocess_dir\n",
    "    )"
   ]
  },
  {
   "cell_type": "code",
   "execution_count": null,
   "metadata": {},
   "outputs": [],
   "source": [
    "# write labels file\n",
    "# focusing on low versus high\n",
    "(stages > 3).astype(int).to_csv(labels_filepath, header=None)"
   ]
  },
  {
   "cell_type": "code",
   "execution_count": null,
   "metadata": {},
   "outputs": [],
   "source": [
    "# analysis with supervised PIMKL (EasyMKL)\n",
    "analysis_name = analyse(\n",
    "    data_names, network_name, gene_sets_name,\n",
    "    preprocess_dir, output_dir,\n",
    "    class_label_file=labels_filepath, model_name='EasyMKL',\n",
    "    number_of_folds=25,\n",
    "    max_per_class=10\n",
    ")"
   ]
  },
  {
   "cell_type": "code",
   "execution_count": null,
   "metadata": {},
   "outputs": [],
   "source": [
    "# supervised weights detail\n",
    "weights_filepath = os.path.join(output_dir, 'weights_{}.csv'.format(analysis_name))\n",
    "plot_top_k_pathways(weights_filepath, top_k=50)"
   ]
  },
  {
   "cell_type": "code",
   "execution_count": null,
   "metadata": {},
   "outputs": [],
   "source": [
    "# analysis with unsupervised PIMKL (UMKLKNN)\n",
    "analysis_name = analyse(\n",
    "    data_names, network_name, gene_sets_name,\n",
    "    preprocess_dir, output_dir,\n",
    "    class_label_file=labels_filepath, model_name='UMKLKNN',\n",
    "    number_of_folds=25,\n",
    "    max_per_class=10\n",
    ")"
   ]
  },
  {
   "cell_type": "code",
   "execution_count": null,
   "metadata": {},
   "outputs": [],
   "source": [
    "# unsupervised weights detail\n",
    "weights_filepath = os.path.join(output_dir, 'weights_{}.csv'.format(analysis_name))\n",
    "plot_top_k_pathways(weights_filepath, top_k=50)"
   ]
  },
  {
   "cell_type": "code",
   "execution_count": null,
   "metadata": {},
   "outputs": [],
   "source": []
  }
 ],
 "metadata": {
  "kernelspec": {
   "display_name": "pimkl",
   "language": "python",
   "name": "pimkl"
  },
  "language_info": {
   "codemirror_mode": {
    "name": "ipython",
    "version": 3
   },
   "file_extension": ".py",
   "mimetype": "text/x-python",
   "name": "python",
   "nbconvert_exporter": "python",
   "pygments_lexer": "ipython3",
   "version": "3.6.10"
  }
 },
 "nbformat": 4,
 "nbformat_minor": 4
}
